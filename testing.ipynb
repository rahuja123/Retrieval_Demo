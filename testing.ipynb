{
 "cells": [
  {
   "cell_type": "code",
   "execution_count": 1,
   "metadata": {},
   "outputs": [],
   "source": [
    "from camera.camera_run import Camera_Process\n",
    "cam = Camera_Process()\n",
    "cam.run()"
   ]
  },
  {
   "cell_type": "code",
   "execution_count": 4,
   "metadata": {},
   "outputs": [],
   "source": [
    "import threading\n",
    "import time\n",
    "class test:\n",
    "    def __init__(self):\n",
    "        self.status = False\n",
    "        self.isstop = False\n",
    "\n",
    "    def start(self):\n",
    "        print('started!')\n",
    "        self.isstop = False\n",
    "        threading.Thread(target=self.camera_run, daemon=True, args=()).start()\n",
    "\n",
    "    def stop(self):\n",
    "        self.isstop = True\n",
    "        print('ipcam stopped!')\n",
    "\n",
    "    def camera_run(self):\n",
    "        count = 0\n",
    "        while not self.isstop:\n",
    "            print(\"Hello\", count)\n",
    "            count += 1\n",
    "            time.sleep(1)"
   ]
  },
  {
   "cell_type": "code",
   "execution_count": 5,
   "metadata": {},
   "outputs": [],
   "source": [
    "def fish():\n",
    "    globals()['cow']=test()\n",
    "    cow.start()\n",
    "\n",
    "def fish2():\n",
    "    try:\n",
    "        global cow\n",
    "        cow.stop()\n",
    "    except:\n",
    "        pass"
   ]
  },
  {
   "cell_type": "code",
   "execution_count": 6,
   "metadata": {},
   "outputs": [
    {
     "name": "stdout",
     "output_type": "stream",
     "text": [
      "started!\n",
      "Hello 0\n",
      "Hello 1\n",
      "Hello 2\n",
      "Hello 3\n",
      "Hello 4\n",
      "Hello 5\n",
      "Hello 6\n"
     ]
    }
   ],
   "source": [
    "fish()"
   ]
  },
  {
   "cell_type": "code",
   "execution_count": 7,
   "metadata": {},
   "outputs": [
    {
     "name": "stdout",
     "output_type": "stream",
     "text": [
      "ipcam stopped!\n"
     ]
    }
   ],
   "source": [
    "fish2()"
   ]
  },
  {
   "cell_type": "code",
   "execution_count": 10,
   "metadata": {},
   "outputs": [],
   "source": [
    "from camera.camera_run_2 import Camera_Process"
   ]
  },
  {
   "cell_type": "code",
   "execution_count": 9,
   "metadata": {},
   "outputs": [
    {
     "name": "stdout",
     "output_type": "stream",
     "text": [
      "ipcam stopped!\n"
     ]
    }
   ],
   "source": [
    "cam_name = \n",
    "Camera_Process(cam_list=cam_name, rtsp=True, reid_model=reid_model,reid_weight=reid_weight, reid_device=reid_device)"
   ]
  },
  {
   "cell_type": "code",
   "execution_count": 2,
   "metadata": {},
   "outputs": [],
   "source": [
    "import os\n",
    "import cv2\n",
    "import sys\n",
    "import csv\n",
    "import json\n",
    "import fire\n",
    "import time\n",
    "import threading\n",
    "import numpy as np\n",
    "from PIL import Image\n",
    "from datetime import datetime\n",
    "from yolo3 import YOLO3\n",
    "from yolo3 import yolov3_weights_downloader\n",
    "from reid import Extractor\n",
    "from reid import reid_weights_downloader\n",
    "from sqlalchemy import create_engine\n",
    "from sqlalchemy.orm import sessionmaker\n",
    "from sqlalchemy import Column, Integer, String, Sequence, ForeignKey, DateTime\n",
    "from sqlalchemy.ext.declarative import declarative_base\n",
    "\n",
    "class ipcamCapture:\n",
    "    def __init__(self, video_path):\n",
    "        self.Frame = []\n",
    "        self.status = False\n",
    "        self.isstop = False\n",
    "        self.capture = cv2.VideoCapture(video_path)\n",
    "\n",
    "    def start(self):\n",
    "        print('ipcam started!')\n",
    "        threading.Thread(target=self.queryframe, daemon=True, args=()).start()\n",
    "\n",
    "    def stop(self):\n",
    "        self.isstop = True\n",
    "        print('ipcam stopped!')\n",
    "\n",
    "    def getframe(self):\n",
    "        return self.Frame\n",
    "\n",
    "    def queryframe(self):\n",
    "        while (not self.isstop):\n",
    "            self.status, self.Frame = self.capture.read()        \n",
    "        self.capture.release()\n",
    "\n",
    "cam_list=[\"S1-B4b-L_5\",\"S21-B4-L-13\",\"S21-B4-L-15\",\"S21-B4-R-10\"]\n",
    "\n",
    "ipcam_1 = ipcamCapture('./media/videos/'+cam_list[0]+'.mp4')\n",
    "ipcam_1.start()\n",
    "time.sleep(1)\n",
    "\n",
    "ipcam_2 = ipcamCapture('./media/videos/'+cam_list[1]+'.mp4')\n",
    "ipcam_2.start()\n",
    "time.sleep(1)\n",
    "\n",
    "ipcam_3 = ipcamCapture('./media/videos/'+cam_list[2]+'.mp4')\n",
    "ipcam_3.start()\n",
    "time.sleep(1)\n",
    "\n",
    "ipcam_4 = ipcamCapture('./media/videos/'+cam_list[3]+'.mp4')\n",
    "ipcam_4.start()\n",
    "time.sleep(1)"
   ]
  },
  {
   "cell_type": "code",
   "execution_count": 18,
   "metadata": {},
   "outputs": [
    {
     "name": "stdout",
     "output_type": "stream",
     "text": [
      "Hello 11\n",
      "ipcam stopped!\n"
     ]
    }
   ],
   "source": [
    "cow.stop()"
   ]
  },
  {
   "cell_type": "code",
   "execution_count": null,
   "metadata": {},
   "outputs": [],
   "source": []
  },
  {
   "cell_type": "code",
   "execution_count": 3,
   "metadata": {},
   "outputs": [],
   "source": [
    "frame_list = []\n",
    "image_list = []\n",
    "frame_1 = ipcam_1.getframe()\n",
    "frame_list.append(frame_1)\n",
    "image_list.append(frame_1[ymin:ymax, xmin:xmax, (2,1,0)])\n",
    "\n",
    "frame_2 = ipcam_2.getframe()\n",
    "frame_list.append(frame_2)\n",
    "image_list.append(frame_2[ymin:ymax, xmin:xmax, (2,1,0)])\n",
    "\n",
    "frame_3 = ipcam_3.getframe()\n",
    "frame_list.append(frame_3)\n",
    "image_list.append(frame_3[ymin:ymax, xmin:xmax, (2,1,0)])\n",
    "\n",
    "frame_4 = ipcam_4.getframe()\n",
    "frame_list.append(frame_4)\n",
    "image_list.append(frame_4[ymin:ymax, xmin:xmax, (2,1,0)])"
   ]
  },
  {
   "cell_type": "code",
   "execution_count": 7,
   "metadata": {},
   "outputs": [],
   "source": [
    "frame_1 = cv2.resize(frame_1, (1280, 720), interpolation=cv2.INTER_CUBIC)"
   ]
  },
  {
   "cell_type": "code",
   "execution_count": 8,
   "metadata": {},
   "outputs": [],
   "source": [
    "frame_1 = cv2.resize(frame_1, (1280, 720), interpolation=cv2.INTER_CUBIC)"
   ]
  },
  {
   "cell_type": "code",
   "execution_count": 15,
   "metadata": {},
   "outputs": [],
   "source": [
    "cam_list=[\"S1-B4b-L_5\",\"S21-B4-L-13\",\"S21-B4-L-15\",\"S21-B4-R-10\"]\n",
    "for i in range(4):\n",
    "    print(cam_list[i])"
   ]
  },
  {
   "cell_type": "code",
   "execution_count": 9,
   "metadata": {},
   "outputs": [],
   "source": [
    "cam_list=[\"S1-B4b-L_5\",\"S21-B4-L-13\",\"S21-B4-L-15\",\"S21-B4-R-10\"]"
   ]
  },
  {
   "cell_type": "code",
   "execution_count": 6,
   "metadata": {},
   "outputs": [],
   "source": [
    "cam_list[3]"
   ]
  },
  {
   "cell_type": "code",
   "execution_count": null,
   "metadata": {},
   "outputs": [],
   "source": []
  }
 ],
 "metadata": {
  "file_extension": ".py",
  "kernelspec": {
   "display_name": "Python 3",
   "language": "python",
   "name": "python3"
  },
  "language_info": {
   "codemirror_mode": {
    "name": "ipython",
    "version": 3
   },
   "file_extension": ".py",
   "mimetype": "text/x-python",
   "name": "python",
   "nbconvert_exporter": "python",
   "pygments_lexer": "ipython3",
   "version": "3.7.3"
  },
  "mimetype": "text/x-python",
  "name": "python",
  "npconvert_exporter": "python",
  "pygments_lexer": "ipython3",
  "version": 3
 },
 "nbformat": 4,
 "nbformat_minor": 4
}
